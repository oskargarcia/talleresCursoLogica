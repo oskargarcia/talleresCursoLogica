{
  "nbformat": 4,
  "nbformat_minor": 0,
  "metadata": {
    "colab": {
      "provenance": []
    },
    "kernelspec": {
      "name": "python3",
      "display_name": "Python 3"
    },
    "language_info": {
      "name": "python"
    }
  },
  "cells": [
    {
      "cell_type": "markdown",
      "source": [
        "Dando continuidad con la primera entrega del proyecto, en esta oportunidad el estudiante debe realizar las siguientes validaciones utilizando la sentencia condicional IF.\n",
        "\n",
        "1. Si el empleado es mayor de 55 años disfrutará de un bono de prepensión correspondiente al 5% de su sueldo básico.\n",
        "\n",
        "2. Si el empleado es casado y tiene hijos se le otorgará un paseo cada diciembre\n",
        "\n",
        "3. Si el sueldo básico está entre 1000000 y 1500000 tendrá una comisión del 2% sobre el valor del sueldo; Si el sueldo básico está entre 1500001 y 2000000 tendrá una comisión del 5% sobre el valor del sueldo; para todos los demás casos no habrá comisión.\n",
        "\n",
        "4. Si el empleado trabajó más de 20 días al mes y su sueldo es menor a 1000000 tendrá derecho a un bono de alimentación."
      ],
      "metadata": {
        "id": "UjbNhKhBtaOL"
      }
    },
    {
      "cell_type": "code",
      "source": [
        "edad = int(input(\"Por favor ingresa la edad del trabajador: \"))\n",
        "estCivil =input(\"El empleado es casado? marque (si/no): \")\n",
        "hijos = input(\"El empleado tine hijos? marca (si/no):  \")\n",
        "sueldo = float(input(\"Sueldo basico del trabajador: \"))\n",
        "tienpo = int(input(\"dias laborados:  \"))\n",
        "print(\"*\"*30)\n",
        "if edad > 55:\n",
        "    bono = round( sueldo * 0.05)\n",
        "    print(f\"\\nTiene derecho al bono de pension por:  {bono}\")\n",
        "else:\n",
        "    print(\"\\naun no aplica para el bono de pension\")\n",
        "if estCivil == \"si\" or hijos == \"si\":\n",
        "    print(\"\\ntiene derecho al paseo\")\n",
        "else:\n",
        "    print(\"\\nno aplica al paseo\")\n",
        "\n",
        "if sueldo in range(999999, 1500000):\n",
        "    comision = sueldo * 0.02\n",
        "    print(f\"\\ntiene decho a una comision de: {comision:,.0f}\")\n",
        "if sueldo in range(1500001, 2000000):\n",
        "  comision = sueldo * 0.05\n",
        "  print(f\"\\ntiene decho a una comision de: {comision:,.0f}\")\n",
        "else:\n",
        "  print(\"\\nno tiene derecho a comision\")\n",
        "if tienpo > 20 and sueldo < 1000000 :\n",
        "    print(\"\\nEl trabajador tiene derecho al bono de alimentacion56\")\n",
        "else:\n",
        "    print(\"\\nNo aplica al bono de alimentacion\")\n",
        "\n",
        "\n",
        "print(\"\\nFin del programa\")"
      ],
      "metadata": {
        "id": "zv-l3arqtbS5"
      },
      "execution_count": null,
      "outputs": []
    }
  ]
}