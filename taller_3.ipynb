{
  "nbformat": 4,
  "nbformat_minor": 0,
  "metadata": {
    "colab": {
      "provenance": []
    },
    "kernelspec": {
      "name": "python3",
      "display_name": "Python 3"
    },
    "language_info": {
      "name": "python"
    }
  },
  "cells": [
    {
      "cell_type": "markdown",
      "source": [
        "Se necesita un sistema que pida un sueldo de un\n",
        "trabajador, si el sueldo es mayor a 655000, no tedrá\n",
        "ninguna bonificación, pero si es menor tiene bonificación\n",
        "del 4%. Al final se desea saber el total del sueldo con\n",
        "o sin bonificación. Preguntar si desea ejecutar de nuevo\n",
        "el programa con el ciclo while."
      ],
      "metadata": {
        "id": "7T22_tbHxd94"
      }
    },
    {
      "cell_type": "code",
      "source": [
        "ejecutar = \"si\"\n",
        "while ejecutar == \"si\":\n",
        "    sueldo = int(input(\"Por favor ingera el sueldo:  \"))\n",
        "    if sueldo > 655000:\n",
        "        print(f\"\\nNo aplica a la bonificacion. \\nSu sueldo es de: ${sueldo}\")\n",
        "    else:\n",
        "        bonificacion = round(sueldo* 0.04)\n",
        "        print(f\"\\nAplica apara bonificacion de: {bonificacion}.\\nSu sueldo total es: ${sueldo + bonificacion}.\")\n",
        "    ejecutar = input(\"\\nDesa ejecutar de nuevo el programa? (si/no)  \").lower()     "
      ],
      "metadata": {
        "id": "hx5bym_i-7bX"
      },
      "execution_count": null,
      "outputs": []
    },
    {
      "cell_type": "markdown",
      "source": [
        "Crear un bucle que cuente todos los números pares hasta\n",
        "el 100 ciclo for"
      ],
      "metadata": {
        "id": "XXZ7HuSH_512"
      }
    },
    {
      "cell_type": "code",
      "source": [
        "for i in range(0, 102, 2):\n",
        "    print(i)"
      ],
      "metadata": {
        "id": "-x6GNy-dBjGB"
      },
      "execution_count": null,
      "outputs": []
    },
    {
      "cell_type": "markdown",
      "source": [
        "Escribir un programa que pregunte al usuario su edad y\n",
        "muestre por pantalla todos los años que ha cumplido\n",
        "(desde 1 hasta su edad). ciclo for"
      ],
      "metadata": {
        "id": "Zy5wxfDBB0GN"
      }
    },
    {
      "cell_type": "code",
      "source": [
        "edad = int(input(\"\\nDigita tu edad\"))\n",
        "for i in range(0, edad):\n",
        "    print(f\"año: {i+1}\")"
      ],
      "metadata": {
        "id": "OWxAnHIHCXZA"
      },
      "execution_count": null,
      "outputs": []
    },
    {
      "cell_type": "markdown",
      "source": [
        "Haz una tabla de multiplicar utilizando el ciclo for\n",
        "ciclo for"
      ],
      "metadata": {
        "id": "grXMMNsPDK5K"
      }
    },
    {
      "cell_type": "code",
      "source": [
        "num1 = int(input(\"\\nIngrasa un numero==>  \"))\n",
        "operador = input(\"\\nSelecciona (+),(-),(/),(*)==>  \")\n",
        "num2 = int(input(\"\\nIngrasa un numero==>  \"))\n",
        "while operador == \"+\":\n",
        "    print(f\"\\nEl resultado de la suma es==>  {num1 + num2}\")\n",
        "    break     # sin (break) en la suma realiza un bucle infinito\n",
        "if operador == \"-\":\n",
        "    print(f\"\\nEl resultado de la reta es==>  {num1 - num2}\")\n",
        "if operador == \"/\":\n",
        "    print(f\"\\nEl resultado de la divicion es==>  {num1 / num2}\")\n",
        "if operador == \"*\":\n",
        "    print(f\"\\nEl resultado de la multiplicacion es==>  {num1 * num2}\")\n",
        "else:\n",
        "    print(\"\\noperador no valido\") # en la mayoria de las operaciones lo imprime "
      ],
      "metadata": {
        "id": "ikulzMSwDYHK"
      },
      "execution_count": null,
      "outputs": []
    },
    {
      "cell_type": "code",
      "source": [
        "while True:\n",
        "    num1 = int(input(\"\\nIngresa un numero==> \"))\n",
        "    operador = input(\"\\nSelecciona (+), (-), (/), (*)==> \")\n",
        "    num2 = int(input(\"\\nIngresa un numero==> \"))\n",
        "    if operador == \"+\":\n",
        "        print(f\"\\nEl resultado de la suma es==> {num1 + num2}\")\n",
        "        break\n",
        "    elif operador == \"-\":\n",
        "        print(f\"\\nEl resultado de la resta es==> {num1 - num2}\")\n",
        "        break\n",
        "    elif operador == \"/\":\n",
        "        print(f\"\\nEl resultado de la division es==> {num1 / num2}\")\n",
        "        break\n",
        "    elif operador == \"*\":\n",
        "        print(f\"\\nEl resultado de la multiplicacion es==> {num1 * num2}\")\n",
        "        break\n",
        "    else:\n",
        "        print(\"\\nOperador no valido. Por favor, intenta de nuevo.\")"
      ],
      "metadata": {
        "colab": {
          "base_uri": "https://localhost:8080/"
        },
        "id": "Qr7V5N1fDMJa",
        "outputId": "1764b988-5a0b-48d7-c8ae-399b876a5343"
      },
      "execution_count": 4,
      "outputs": [
        {
          "output_type": "stream",
          "name": "stdout",
          "text": [
            "\n",
            "Ingresa un numero==> 5\n",
            "\n",
            "Selecciona (+), (-), (/), (*)==> *\n",
            "\n",
            "Ingresa un numero==> 5\n",
            "\n",
            "El resultado de la multiplicacion es==> 25\n"
          ]
        }
      ]
    }
  ]
}