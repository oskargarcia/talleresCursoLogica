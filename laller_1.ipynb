{
  "nbformat": 4,
  "nbformat_minor": 0,
  "metadata": {
    "colab": {
      "provenance": []
    },
    "kernelspec": {
      "name": "python3",
      "display_name": "Python 3"
    },
    "language_info": {
      "name": "python"
    }
  },
  "cells": [
    {
      "cell_type": "markdown",
      "source": [
        "Un vendedor recibe un sueldo base más un 10% extra por comisión de sus ventas, el vendedor desea saber cuánto dinero obtendrá por concepto de comisiones por las tres ventas que realiza en el mes y el total que recibirá en el mes tomando en cuenta su sueldo base y comisiones."
      ],
      "metadata": {
        "id": "ZwGZQdVOEMHX"
      }
    },
    {
      "cell_type": "code",
      "execution_count": null,
      "metadata": {
        "id": "SKXu8cnDEFK9"
      },
      "outputs": [],
      "source": [
        "mes_1 = int(input(\"Ingresa  ventas del primer mes: \"))\n",
        "mes_2 = int(input(\"Ingresa  ventas del segundo mes: \"))\n",
        "mes_3 = int(input(\"Ingresa  ventas del tercer mes: \"))\n",
        "base = 2000000\n",
        "totalVentas = mes_1 + mes_2 + mes_3\n",
        "\n",
        "comision = totalVentas * 0.10\n",
        "total = base + comision\n",
        "print(f\"\\nLa comision por tus ventas: ${comision:,.0f}\")\n",
        "print(f\"\\ntotal sueldo mas comicion: ${total:,.0f}\")"
      ]
    },
    {
      "cell_type": "markdown",
      "source": [
        "Una tienda ofrece un descuento del 15% sobre el total de la compra y un cliente desea saber cuánto deberá pagar finalmente por su compra."
      ],
      "metadata": {
        "id": "pspk8Tt9EUvh"
      }
    },
    {
      "cell_type": "code",
      "source": [
        "compra = int(input(\"Por favor ingresa el total de tu compra==> \"))\n",
        "descuento =  compra * 0.15\n",
        "pagar = compra - descuento\n",
        "print(f\"Total compra ==> {compra}\")\n",
        "print(\"-\" *20)\n",
        "print(f\"Descunto de  10% ==>  {descuento:,.0f}\")\n",
        "print(\"-\" *20)\n",
        "print(f\"El total a pagar con el descuento es: {pagar:,.0f}\")\n",
        "print(\"-\" *20)\n",
        "print(\"GRACIAS POR TU COMPRA\")"
      ],
      "metadata": {
        "id": "n0vPhjhxEaKP"
      },
      "execution_count": null,
      "outputs": []
    },
    {
      "cell_type": "markdown",
      "source": [
        "Un alumno desea saber cuál será su calificación final en la materia de Algoritmos. Dicha calificación se compone de tres exámenes parciales."
      ],
      "metadata": {
        "id": "XITCu-76E4El"
      }
    },
    {
      "cell_type": "code",
      "source": [
        "nom = input(\"ingresa tu nombe:  \")\n",
        "exa_1 = float(input(\"ingresa la calificacion del primer examen==>  \"))\n",
        "exa_2 = float(input(\"ingresa la calificacion del segundo examen==>  \"))\n",
        "exa_3 = float(input(\"ingresa la calificacion del tecer examen==>  \"))\n",
        "resultado = round((exa_1 + exa_2 + exa_3)/ 3,2)\n",
        "print(f\"\\nHola {nom} Tu calificacion final es:  {resultado} \") "
      ],
      "metadata": {
        "id": "WVp4CtU0E5Fs"
      },
      "execution_count": null,
      "outputs": []
    },
    {
      "cell_type": "markdown",
      "source": [
        "Un maestro desea saber qué porcentaje de hombres y que porcentaje de mujeres hay en un grupo de estudiantes."
      ],
      "metadata": {
        "id": "pIcL9Tl8g1vp"
      }
    },
    {
      "cell_type": "code",
      "source": [
        "grupo = int(input(\"Digita la cantidad total del grupo:  \"))\n",
        "mujeres = int(input(\"ingresa el numero de mujeres: \"))\n",
        "hombres = int(input(\"ingresa el numero de hombres\"))\n",
        "promedioMuje = round((mujeres / grupo) * 100)\n",
        "promedioHom = round((hombres/ grupo) * 100)\n",
        "print(f\"El promedio de estudiantes femeninas es de: {promedioMuje} %\")\n",
        "print(f\"El promedio de estudiantes hombres es de: {promedioHom} %\")"
      ],
      "metadata": {
        "id": "HvLf6b1Tg272"
      },
      "execution_count": null,
      "outputs": []
    }
  ]
}
