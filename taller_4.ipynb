{
  "nbformat": 4,
  "nbformat_minor": 0,
  "metadata": {
    "colab": {
      "provenance": []
    },
    "kernelspec": {
      "name": "python3",
      "display_name": "Python 3"
    },
    "language_info": {
      "name": "python"
    }
  },
  "cells": [
    {
      "cell_type": "markdown",
      "source": [
        "Es integrar Ciclos y Funciones en el código del Taller 1 y Taller 2."
      ],
      "metadata": {
        "id": "e5tlTGfHS__5"
      }
    },
    {
      "cell_type": "markdown",
      "source": [
        "**DEL TALLER # 1**"
      ],
      "metadata": {
        "id": "uJgSwyfymkIH"
      }
    },
    {
      "cell_type": "code",
      "execution_count": null,
      "metadata": {
        "id": "wVS0RUyTSvGO"
      },
      "outputs": [],
      "source": [
        "def comisiones():\n",
        "    mes_1 = int(input(\"Ingresa  ventas del primer mes: \"))\n",
        "    mes_2 = int(input(\"Ingresa  ventas del segundo mes: \"))\n",
        "    mes_3 = int(input(\"Ingresa  ventas del tercer mes: \"))\n",
        "    base = 2000000\n",
        "    totalVentas = mes_1 + mes_2 + mes_3\n",
        "\n",
        "    comision = totalVentas * 0.10\n",
        "    total = base + comision\n",
        "    print(f\"\\nLa comision por  ventas: ${comision:,.0f}\")\n",
        "    print(f\"\\ntotal sueldo mas comicion: ${total:,.0f}\")\n",
        "\n",
        "resp = \"si\"\n",
        "while resp == \"si\":\n",
        "    comisiones()\n",
        "    resp = input(\"¿Desea consultar otro trabajador? (si/no)  \")"
      ]
    },
    {
      "cell_type": "markdown",
      "source": [
        "**DEL TALLER # 2**"
      ],
      "metadata": {
        "id": "l8OCrH_Mmc6T"
      }
    },
    {
      "cell_type": "code",
      "source": [
        "def derchoA():\n",
        "    print(\"*\"*30)\n",
        "    if edad > 55:\n",
        "        bono = round( sueldo * 0.05)\n",
        "        print(f\"\\nTiene derecho al bono de pension por:  {bono}\")\n",
        "    else:\n",
        "        print(\"\\naun no aplica para el bono de pension\")\n",
        "    if estCivil == \"si\" or hijos == \"si\":\n",
        "        print(\"\\ntiene derecho al paseo\")\n",
        "    else:\n",
        "        print(\"\\nno aplica al paseo\")\n",
        "\n",
        "    if sueldo in range(999999, 1500000):\n",
        "        comision = sueldo * 0.02\n",
        "        print(f\"\\ntiene decho a una comision de: {comision:,.0f}\")\n",
        "    if sueldo in range(1500001, 2000000):\n",
        "        comision = sueldo * 0.05\n",
        "        print(f\"\\ntiene decho a una comision de: {comision:,.0f}\")\n",
        "    else:\n",
        "        print(\"\\nno tiene derecho a comision\")\n",
        "    if tienpo > 20 and sueldo < 1000000 :\n",
        "        print(\"\\nEl trabajador tiene derecho al bono de alimentacion\")\n",
        "    else:\n",
        "        print(\"\\nNo aplica al bono de alimentacion\")\n",
        "otro = \"si\"\n",
        "while otro == \"si\":\n",
        "    edad = int(input(\"Por favor ingresa la edad del trabajador: \"))\n",
        "    estCivil =input(\"El empleado es casado? marque (si/no): \")\n",
        "    hijos = input(\"El empleado tine hijos? marca (si/no):  \")\n",
        "    sueldo = float(input(\"Sueldo basico del trabajador: \"))\n",
        "    tienpo = int(input(\"dias laborados:  \"))\n",
        "\n",
        "    derchoA()\n",
        "    otro = input(\"\\ndesa consultal otro trabajador? (si/no):  \")\n",
        "\n",
        "\n",
        "print(\"\\nFin del programa\")"
      ],
      "metadata": {
        "id": "jEFvcAwAl6Y6"
      },
      "execution_count": null,
      "outputs": []
    }
  ]
}